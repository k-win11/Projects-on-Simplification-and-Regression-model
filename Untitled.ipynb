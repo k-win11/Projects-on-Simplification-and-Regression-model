{
 "cells": [
  {
   "cell_type": "code",
   "execution_count": 1,
   "id": "14a9ea00",
   "metadata": {},
   "outputs": [
    {
     "name": "stderr",
     "output_type": "stream",
     "text": [
      "2024-01-26 16:36:13.963 \n",
      "  \u001b[33m\u001b[1mWarning:\u001b[0m to view this Streamlit app on a browser, run it with the following\n",
      "  command:\n",
      "\n",
      "    streamlit run C:\\Users\\khara\\AppData\\Local\\Programs\\Python\\Python310\\lib\\site-packages\\ipykernel_launcher.py [ARGUMENTS]\n"
     ]
    },
    {
     "ename": "NameError",
     "evalue": "name 'Cement' is not defined",
     "output_type": "error",
     "traceback": [
      "\u001b[1;31m---------------------------------------------------------------------------\u001b[0m",
      "\u001b[1;31mNameError\u001b[0m                                 Traceback (most recent call last)",
      "Input \u001b[1;32mIn [1]\u001b[0m, in \u001b[0;36m<cell line: 27>\u001b[1;34m()\u001b[0m\n\u001b[0;32m     24\u001b[0m     st\u001b[38;5;241m.\u001b[39mstop()\n\u001b[0;32m     26\u001b[0m \u001b[38;5;66;03m# Feature creation for the model\u001b[39;00m\n\u001b[1;32m---> 27\u001b[0m Feature \u001b[38;5;241m=\u001b[39m np\u001b[38;5;241m.\u001b[39marray([[\u001b[43mCement\u001b[49m, Water, Strength, Fine_Aggregate, Blast_Furnace_Slag, Fly_Ash, Superplasticizer, Coarse_Aggregate]])\n\u001b[0;32m     29\u001b[0m \u001b[38;5;66;03m# Check if the button is clicked\u001b[39;00m\n\u001b[0;32m     30\u001b[0m \u001b[38;5;28;01mif\u001b[39;00m st\u001b[38;5;241m.\u001b[39mbutton(\u001b[38;5;124m'\u001b[39m\u001b[38;5;124mGet Age\u001b[39m\u001b[38;5;124m'\u001b[39m):\n\u001b[0;32m     31\u001b[0m     \u001b[38;5;66;03m# Predict concrete age\u001b[39;00m\n",
      "\u001b[1;31mNameError\u001b[0m: name 'Cement' is not defined"
     ]
    }
   ],
   "source": [
    "# Import necessary libraries\n",
    "import pickle\n",
    "import streamlit as st\n",
    "import numpy as np\n",
    "\n",
    "# Load model\n",
    "model = pickle.load(open('model.pkl', 'rb'))\n",
    "\n",
    "# Create web app using Streamlit\n",
    "st.title('Concrete Age prediction in days')\n",
    "\n",
    "# Input fields for user\n",
    "try:\n",
    "    Cement = float(st.text_input('Enter cement value'))\n",
    "    Water = float(st.text_input('Enter water value'))\n",
    "    Strength = float(st.text_input('Enter strength value'))\n",
    "    Fine_Aggregate = float(st.text_input('Enter Fine_Aggregate value'))\n",
    "    Blast_Furnace_Slag = float(st.text_input('Enter Blast_Furnace_Slag value'))\n",
    "    Fly_Ash = float(st.text_input('Enter Fly_Ash value'))\n",
    "    Superplasticizer = float(st.text_input('Enter Superplasticizer value'))\n",
    "    Coarse_Aggregate = float(st.text_input('Enter Coarse_Aggregate value'))\n",
    "except ValueError:\n",
    "    st.warning(\"Please enter valid numeric values for all input fields.\")\n",
    "    st.stop()\n",
    "\n",
    "# Feature creation for the model\n",
    "Feature = np.array([[Cement, Water, Strength, Fine_Aggregate, Blast_Furnace_Slag, Fly_Ash, Superplasticizer, Coarse_Aggregate]])\n",
    "\n",
    "# Check if the button is clicked\n",
    "if st.button('Get Age'):\n",
    "    # Predict concrete age\n",
    "    Prediction = model.predict(Feature.reshape(1, -1))\n",
    "    \n",
    "    # Display the result\n",
    "    st.write('Concrete age in days:', Prediction[0])"
   ]
  },
  {
   "cell_type": "code",
   "execution_count": null,
   "id": "d16c6e3b",
   "metadata": {},
   "outputs": [],
   "source": []
  }
 ],
 "metadata": {
  "kernelspec": {
   "display_name": "Python 3 (ipykernel)",
   "language": "python",
   "name": "python3"
  },
  "language_info": {
   "codemirror_mode": {
    "name": "ipython",
    "version": 3
   },
   "file_extension": ".py",
   "mimetype": "text/x-python",
   "name": "python",
   "nbconvert_exporter": "python",
   "pygments_lexer": "ipython3",
   "version": "3.10.5"
  }
 },
 "nbformat": 4,
 "nbformat_minor": 5
}
